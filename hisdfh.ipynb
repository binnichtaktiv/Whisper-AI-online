{
  "cells": [
    {
      "cell_type": "markdown",
      "metadata": {
        "id": "view-in-github",
        "colab_type": "text"
      },
      "source": [
        "<a href=\"https://colab.research.google.com/github/binnichtaktiv/Whisper-AI-online/blob/main/hisdfh.ipynb\" target=\"_parent\"><img src=\"https://colab.research.google.com/assets/colab-badge.svg\" alt=\"Open In Colab\"/></a>"
      ]
    },
    {
      "cell_type": "code",
      "execution_count": 1,
      "metadata": {
        "id": "9TjGAY26Az7h"
      },
      "outputs": [],
      "source": [
        "!pip install git+https://github.com/openai/whisper.git\n",
        "!sudo apt update && sudo apt install ffmpeg\n",
        "from IPython.display import clear_output\n",
        "clear_output()\n"
      ]
    },
    {
      "cell_type": "code",
      "source": [
        "!pip install -q yt-dlp\n"
      ],
      "metadata": {
        "id": "95nMvFCO7AFX",
        "outputId": "b83806a6-890c-498f-85da-4fb03e9d6268",
        "colab": {
          "base_uri": "https://localhost:8080/"
        }
      },
      "execution_count": 3,
      "outputs": [
        {
          "output_type": "stream",
          "name": "stdout",
          "text": [
            "\u001b[2K     \u001b[90m━━━━━━━━━━━━━━━━━━━━━━━━━━━━━━━━━━━━━━━━\u001b[0m \u001b[32m3.0/3.0 MB\u001b[0m \u001b[31m14.9 MB/s\u001b[0m eta \u001b[36m0:00:00\u001b[0m\n",
            "\u001b[2K     \u001b[90m━━━━━━━━━━━━━━━━━━━━━━━━━━━━━━━━━━━━━━━━\u001b[0m \u001b[32m194.4/194.4 kB\u001b[0m \u001b[31m24.3 MB/s\u001b[0m eta \u001b[36m0:00:00\u001b[0m\n",
            "\u001b[2K     \u001b[90m━━━━━━━━━━━━━━━━━━━━━━━━━━━━━━━━━━━━━━━━\u001b[0m \u001b[32m2.1/2.1 MB\u001b[0m \u001b[31m27.7 MB/s\u001b[0m eta \u001b[36m0:00:00\u001b[0m\n",
            "\u001b[2K     \u001b[90m━━━━━━━━━━━━━━━━━━━━━━━━━━━━━━━━━━━━━━━━\u001b[0m \u001b[32m130.2/130.2 kB\u001b[0m \u001b[31m18.0 MB/s\u001b[0m eta \u001b[36m0:00:00\u001b[0m\n",
            "\u001b[2K     \u001b[90m━━━━━━━━━━━━━━━━━━━━━━━━━━━━━━━━━━━━━━━━\u001b[0m \u001b[32m3.0/3.0 MB\u001b[0m \u001b[31m37.9 MB/s\u001b[0m eta \u001b[36m0:00:00\u001b[0m\n",
            "\u001b[?25h"
          ]
        }
      ]
    },
    {
      "cell_type": "code",
      "source": [
        "!yt-dlp \"https://customer-aw5py76sw8wyqzmh.cloudflarestream.com/2463f6d3e06fa29710a337f5f5389fd8/manifest/video.m3u8?parentOrigin=https%3A%2F%2Ftuckercarlson.com\""
      ],
      "metadata": {
        "id": "RVYwoiog61HJ",
        "outputId": "fc2d1a13-98db-4df4-cff2-e54491453af5",
        "colab": {
          "base_uri": "https://localhost:8080/"
        }
      },
      "execution_count": 4,
      "outputs": [
        {
          "output_type": "stream",
          "name": "stdout",
          "text": [
            "[generic] Extracting URL: https://customer-aw5py76sw8wyqzmh.cloudflarestream.com/2463f6d3e06fa29710a337f5f5389fd8/manifest/...%2Ftuckercarlson.com\n",
            "[generic] video.m3u8?parentOrigin=https://tuckercarlson: Downloading webpage\n",
            "[generic] video.m3u8?parentOrigin=https://tuckercarlson: Downloading m3u8 information\n",
            "[generic] video.m3u8?parentOrigin=https://tuckercarlson: Checking m3u8 live status\n",
            "[info] video.m3u8?parentOrigin=https://tuckercarlson: Downloading 1 format(s): 2224+group_audio-original\n",
            "[hlsnative] Downloading m3u8 manifest\n",
            "[hlsnative] Total fragments: 1908\n",
            "[download] Destination: video [video.m3u8？parentOrigin=https：⧸⧸tuckercarlson].f2224.mp4\n",
            "\u001b[K[download] 100% of    1.83GiB in \u001b[1;37m00:05:31\u001b[0m at \u001b[0;32m5.64MiB/s\u001b[0m\n",
            "[hlsnative] Downloading m3u8 manifest\n",
            "[hlsnative] Total fragments: 1905\n",
            "[download] Destination: video [video.m3u8？parentOrigin=https：⧸⧸tuckercarlson].fgroup_audio-original.mp4\n",
            "\u001b[K[download] 100% of  187.98MiB in \u001b[1;37m00:05:06\u001b[0m at \u001b[0;32m628.61KiB/s\u001b[0m\n",
            "[Merger] Merging formats into \"video [video.m3u8？parentOrigin=https：⧸⧸tuckercarlson].mp4\"\n",
            "Deleting original file video [video.m3u8？parentOrigin=https：⧸⧸tuckercarlson].f2224.mp4 (pass -k to keep)\n",
            "Deleting original file video [video.m3u8？parentOrigin=https：⧸⧸tuckercarlson].fgroup_audio-original.mp4 (pass -k to keep)\n"
          ]
        }
      ]
    },
    {
      "cell_type": "code",
      "source": [
        "!du -h test.mp4"
      ],
      "metadata": {
        "id": "ZY4g8Ls8-Le2",
        "outputId": "b0d22cd6-34fd-4ee4-f292-ded7a9e4252a",
        "colab": {
          "base_uri": "https://localhost:8080/"
        }
      },
      "execution_count": 6,
      "outputs": [
        {
          "output_type": "stream",
          "name": "stdout",
          "text": [
            "1.9G\ttest.mp4\n"
          ]
        }
      ]
    },
    {
      "cell_type": "code",
      "execution_count": null,
      "metadata": {
        "id": "4maXQo1nA2kK",
        "outputId": "62d66a3e-6efd-4a11-f709-05faac53299a",
        "colab": {
          "base_uri": "https://localhost:8080/"
        }
      },
      "outputs": [
        {
          "metadata": {
            "tags": null
          },
          "name": "stdout",
          "output_type": "stream",
          "text": [
            "100%|█████████████████████████████████████| 2.88G/2.88G [00:57<00:00, 53.3MiB/s]\n"
          ]
        }
      ],
      "source": [
        "!whisper test.mp4 --model large --output_format srt --task transcribe > transcription.srt\n"
      ]
    }
  ],
  "metadata": {
    "colab": {
      "provenance": [],
      "authorship_tag": "ABX9TyNnpzaLmUryFAFHNHr0rlVx",
      "include_colab_link": true
    },
    "kernelspec": {
      "display_name": "Python 3",
      "name": "python3"
    },
    "language_info": {
      "name": "python"
    },
    "accelerator": "GPU",
    "gpuClass": "standard"
  },
  "nbformat": 4,
  "nbformat_minor": 0
}