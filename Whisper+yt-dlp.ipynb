{
  "cells": [
    {
      "cell_type": "markdown",
      "metadata": {
        "id": "view-in-github",
        "colab_type": "text"
      },
      "source": [
        "<a href=\"https://colab.research.google.com/github/binnichtaktiv/Whisper-AI-online/blob/main/Whisper%2Byt-dlp.ipynb\" target=\"_parent\"><img src=\"https://colab.research.google.com/assets/colab-badge.svg\" alt=\"Open In Colab\"/></a>"
      ]
    },
    {
      "cell_type": "markdown",
      "source": [
        "Go to runtime - change runtime - and select T4 GPU"
      ],
      "metadata": {
        "id": "AhRjq6tIeDHW"
      }
    },
    {
      "cell_type": "code",
      "execution_count": null,
      "metadata": {
        "id": "9TjGAY26Az7h"
      },
      "outputs": [],
      "source": [
        "video_link = input(\"Enter a video link: \")\n",
        "!pip install git+https://github.com/openai/whisper.git\n",
        "!sudo apt update && sudo apt install ffmpeg\n",
        "from IPython.display import clear_output\n",
        "clear_output()\n",
        "!pip install -q yt-dlp\n",
        "clear_output()\n",
        "!yt-dlp -f mp4 \"{video_link}\" -o \"whisper_video.mp4\"\n",
        "clear_output()\n",
        "!whisper whisper_video.mp4 --model medium\n"
      ]
    }
  ],
  "metadata": {
    "colab": {
      "provenance": [],
      "authorship_tag": "ABX9TyPYyDjAowFo0kEECigqO0ec",
      "include_colab_link": true
    },
    "kernelspec": {
      "display_name": "Python 3",
      "name": "python3"
    },
    "language_info": {
      "name": "python"
    },
    "accelerator": "GPU",
    "gpuClass": "standard"
  },
  "nbformat": 4,
  "nbformat_minor": 0
}